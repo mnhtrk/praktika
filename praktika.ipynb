{
  "cells": [
    {
      "cell_type": "markdown",
      "source": [
        "Импорт библиотек"
      ],
      "metadata": {
        "id": "q8xccyasBwV_"
      }
    },
    {
      "cell_type": "code",
      "source": [
        "!pip install -U aiogram\n",
        "!pip install --force-reinstall -v \"aiogram==2.23.1\""
      ],
      "metadata": {
        "id": "zEhPEFn6v3MW"
      },
      "execution_count": null,
      "outputs": []
    },
    {
      "cell_type": "code",
      "execution_count": null,
      "metadata": {
        "id": "WbnKe9f_Cvoq"
      },
      "outputs": [],
      "source": [
        "import tensorflow as tf\n",
        "from tensorflow import keras\n",
        "from keras.preprocessing.image import ImageDataGenerator, load_img, img_to_array\n",
        "import numpy as np\n",
        "import matplotlib.pyplot as plt\n",
        "import tensorflow_datasets as tfds\n",
        "import os\n",
        "import cv2\n",
        "from aiogram import Bot, types, Dispatcher, executor\n",
        "from aiogram.types import ContentType"
      ]
    },
    {
      "cell_type": "markdown",
      "source": [
        "Определение переменных пути к датасету, размеров изображения, и количества дополнительных изображений, полученных после аугментации"
      ],
      "metadata": {
        "id": "ufOxHmCXB4GH"
      }
    },
    {
      "cell_type": "code",
      "execution_count": null,
      "metadata": {
        "id": "a9q0ONHcDvAg"
      },
      "outputs": [],
      "source": [
        "PATH = \"drive/MyDrive/Colab Notebooks/dataset2\"\n",
        "\n",
        "height = 224\n",
        "width = 224\n",
        "\n",
        "num_augmentations = 2"
      ]
    },
    {
      "cell_type": "markdown",
      "source": [
        "Аугментация"
      ],
      "metadata": {
        "id": "dxs23nNHCKxw"
      }
    },
    {
      "cell_type": "code",
      "execution_count": null,
      "metadata": {
        "id": "ZuC2iX7DO6oa"
      },
      "outputs": [],
      "source": [
        "datagen = ImageDataGenerator(\n",
        "    rotation_range=40,\n",
        "    width_shift_range=0.2,\n",
        "    height_shift_range=0.2,\n",
        "    shear_range=0.2,\n",
        "    zoom_range=0.2,\n",
        "    horizontal_flip=True,\n",
        "    fill_mode='nearest'\n",
        ")\n",
        "\n",
        "subfolders = [f.path for f in os.scandir(PATH) if f.is_dir()]\n",
        "\n",
        "for subfolder in subfolders:\n",
        "    image_files = [f.path for f in os.scandir(subfolder) if f.is_file() and f.name.endswith(('.png', '.jpg', '.jpeg'))]\n",
        "\n",
        "    for image_file in image_files:\n",
        "        img = load_img(image_file)\n",
        "        x = img_to_array(img)\n",
        "        x = np.expand_dims(x, axis=0)\n",
        "\n",
        "        i = 0\n",
        "        for batch in datagen.flow(x, batch_size=1, save_to_dir=subfolder, save_prefix='MY_', save_format='jpeg'):\n",
        "            i += 1\n",
        "            if i >= num_augmentations:\n",
        "                break"
      ]
    },
    {
      "cell_type": "markdown",
      "source": [
        "Разбиение датасета на тестовую и валидационную выборки"
      ],
      "metadata": {
        "id": "y-ffPW1XCNet"
      }
    },
    {
      "cell_type": "code",
      "execution_count": null,
      "metadata": {
        "colab": {
          "base_uri": "https://localhost:8080/"
        },
        "id": "t2BSCUVzDdwR",
        "outputId": "21110ee5-01ea-40b3-9209-176f27f9b099"
      },
      "outputs": [
        {
          "output_type": "stream",
          "name": "stdout",
          "text": [
            "Found 3619 files belonging to 10 classes.\n",
            "Using 2896 files for training.\n",
            "Found 3619 files belonging to 10 classes.\n",
            "Using 723 files for validation.\n"
          ]
        }
      ],
      "source": [
        "train_ds = tf.keras.utils.image_dataset_from_directory(\n",
        "  PATH,\n",
        "  validation_split=0.2,\n",
        "  subset=\"training\",\n",
        "  seed=123,\n",
        "  image_size=(height, width))\n",
        "\n",
        "val_ds = tf.keras.utils.image_dataset_from_directory(\n",
        "  PATH,\n",
        "  validation_split=0.2,\n",
        "  subset=\"validation\",\n",
        "  seed=123,\n",
        "  image_size=(height, width))"
      ]
    },
    {
      "cell_type": "markdown",
      "source": [
        "Настройка набора данных для повышенной производительности"
      ],
      "metadata": {
        "id": "LQgy-IpmCdZN"
      }
    },
    {
      "cell_type": "code",
      "source": [
        "AUTOTUNE = tf.data.AUTOTUNE\n",
        "\n",
        "train_ds = train_ds.cache().prefetch(buffer_size=AUTOTUNE)\n",
        "val_ds = val_ds.cache().prefetch(buffer_size=AUTOTUNE)"
      ],
      "metadata": {
        "id": "FGZRxdKqFxUE"
      },
      "execution_count": null,
      "outputs": []
    },
    {
      "cell_type": "markdown",
      "source": [
        "Сборка модели"
      ],
      "metadata": {
        "id": "2llDbHq1CvFl"
      }
    },
    {
      "cell_type": "code",
      "source": [
        "pretrained_model = tf.keras.applications.efficientnet.EfficientNetB0(\n",
        "    input_shape=(height, width, 3),\n",
        "    include_top=False,\n",
        "    weights='imagenet',\n",
        "    pooling='max'\n",
        ")\n",
        "\n",
        "pretrained_model.trainable = False"
      ],
      "metadata": {
        "id": "CzzOnlwFZ9Ek"
      },
      "execution_count": null,
      "outputs": []
    },
    {
      "cell_type": "code",
      "execution_count": null,
      "metadata": {
        "id": "DNZxhV08ZkcM",
        "colab": {
          "base_uri": "https://localhost:8080/"
        },
        "outputId": "5d489999-c103-43a5-cf57-011ce57c4e93"
      },
      "outputs": [
        {
          "output_type": "stream",
          "name": "stdout",
          "text": [
            "Model: \"model_2\"\n",
            "__________________________________________________________________________________________________\n",
            " Layer (type)                Output Shape                 Param #   Connected to                  \n",
            "==================================================================================================\n",
            " input_3 (InputLayer)        [(None, 224, 224, 3)]        0         []                            \n",
            "                                                                                                  \n",
            " rescaling_6 (Rescaling)     (None, 224, 224, 3)          0         ['input_3[0][0]']             \n",
            "                                                                                                  \n",
            " normalization_2 (Normaliza  (None, 224, 224, 3)          7         ['rescaling_6[0][0]']         \n",
            " tion)                                                                                            \n",
            "                                                                                                  \n",
            " rescaling_7 (Rescaling)     (None, 224, 224, 3)          0         ['normalization_2[0][0]']     \n",
            "                                                                                                  \n",
            " stem_conv_pad (ZeroPadding  (None, 225, 225, 3)          0         ['rescaling_7[0][0]']         \n",
            " 2D)                                                                                              \n",
            "                                                                                                  \n",
            " stem_conv (Conv2D)          (None, 112, 112, 32)         864       ['stem_conv_pad[0][0]']       \n",
            "                                                                                                  \n",
            " stem_bn (BatchNormalizatio  (None, 112, 112, 32)         128       ['stem_conv[0][0]']           \n",
            " n)                                                                                               \n",
            "                                                                                                  \n",
            " stem_activation (Activatio  (None, 112, 112, 32)         0         ['stem_bn[0][0]']             \n",
            " n)                                                                                               \n",
            "                                                                                                  \n",
            " block1a_dwconv (DepthwiseC  (None, 112, 112, 32)         288       ['stem_activation[0][0]']     \n",
            " onv2D)                                                                                           \n",
            "                                                                                                  \n",
            " block1a_bn (BatchNormaliza  (None, 112, 112, 32)         128       ['block1a_dwconv[0][0]']      \n",
            " tion)                                                                                            \n",
            "                                                                                                  \n",
            " block1a_activation (Activa  (None, 112, 112, 32)         0         ['block1a_bn[0][0]']          \n",
            " tion)                                                                                            \n",
            "                                                                                                  \n",
            " block1a_se_squeeze (Global  (None, 32)                   0         ['block1a_activation[0][0]']  \n",
            " AveragePooling2D)                                                                                \n",
            "                                                                                                  \n",
            " block1a_se_reshape (Reshap  (None, 1, 1, 32)             0         ['block1a_se_squeeze[0][0]']  \n",
            " e)                                                                                               \n",
            "                                                                                                  \n",
            " block1a_se_reduce (Conv2D)  (None, 1, 1, 8)              264       ['block1a_se_reshape[0][0]']  \n",
            "                                                                                                  \n",
            " block1a_se_expand (Conv2D)  (None, 1, 1, 32)             288       ['block1a_se_reduce[0][0]']   \n",
            "                                                                                                  \n",
            " block1a_se_excite (Multipl  (None, 112, 112, 32)         0         ['block1a_activation[0][0]',  \n",
            " y)                                                                  'block1a_se_expand[0][0]']   \n",
            "                                                                                                  \n",
            " block1a_project_conv (Conv  (None, 112, 112, 16)         512       ['block1a_se_excite[0][0]']   \n",
            " 2D)                                                                                              \n",
            "                                                                                                  \n",
            " block1a_project_bn (BatchN  (None, 112, 112, 16)         64        ['block1a_project_conv[0][0]']\n",
            " ormalization)                                                                                    \n",
            "                                                                                                  \n",
            " block2a_expand_conv (Conv2  (None, 112, 112, 96)         1536      ['block1a_project_bn[0][0]']  \n",
            " D)                                                                                               \n",
            "                                                                                                  \n",
            " block2a_expand_bn (BatchNo  (None, 112, 112, 96)         384       ['block2a_expand_conv[0][0]'] \n",
            " rmalization)                                                                                     \n",
            "                                                                                                  \n",
            " block2a_expand_activation   (None, 112, 112, 96)         0         ['block2a_expand_bn[0][0]']   \n",
            " (Activation)                                                                                     \n",
            "                                                                                                  \n",
            " block2a_dwconv_pad (ZeroPa  (None, 113, 113, 96)         0         ['block2a_expand_activation[0]\n",
            " dding2D)                                                           [0]']                         \n",
            "                                                                                                  \n",
            " block2a_dwconv (DepthwiseC  (None, 56, 56, 96)           864       ['block2a_dwconv_pad[0][0]']  \n",
            " onv2D)                                                                                           \n",
            "                                                                                                  \n",
            " block2a_bn (BatchNormaliza  (None, 56, 56, 96)           384       ['block2a_dwconv[0][0]']      \n",
            " tion)                                                                                            \n",
            "                                                                                                  \n",
            " block2a_activation (Activa  (None, 56, 56, 96)           0         ['block2a_bn[0][0]']          \n",
            " tion)                                                                                            \n",
            "                                                                                                  \n",
            " block2a_se_squeeze (Global  (None, 96)                   0         ['block2a_activation[0][0]']  \n",
            " AveragePooling2D)                                                                                \n",
            "                                                                                                  \n",
            " block2a_se_reshape (Reshap  (None, 1, 1, 96)             0         ['block2a_se_squeeze[0][0]']  \n",
            " e)                                                                                               \n",
            "                                                                                                  \n",
            " block2a_se_reduce (Conv2D)  (None, 1, 1, 4)              388       ['block2a_se_reshape[0][0]']  \n",
            "                                                                                                  \n",
            " block2a_se_expand (Conv2D)  (None, 1, 1, 96)             480       ['block2a_se_reduce[0][0]']   \n",
            "                                                                                                  \n",
            " block2a_se_excite (Multipl  (None, 56, 56, 96)           0         ['block2a_activation[0][0]',  \n",
            " y)                                                                  'block2a_se_expand[0][0]']   \n",
            "                                                                                                  \n",
            " block2a_project_conv (Conv  (None, 56, 56, 24)           2304      ['block2a_se_excite[0][0]']   \n",
            " 2D)                                                                                              \n",
            "                                                                                                  \n",
            " block2a_project_bn (BatchN  (None, 56, 56, 24)           96        ['block2a_project_conv[0][0]']\n",
            " ormalization)                                                                                    \n",
            "                                                                                                  \n",
            " block2b_expand_conv (Conv2  (None, 56, 56, 144)          3456      ['block2a_project_bn[0][0]']  \n",
            " D)                                                                                               \n",
            "                                                                                                  \n",
            " block2b_expand_bn (BatchNo  (None, 56, 56, 144)          576       ['block2b_expand_conv[0][0]'] \n",
            " rmalization)                                                                                     \n",
            "                                                                                                  \n",
            " block2b_expand_activation   (None, 56, 56, 144)          0         ['block2b_expand_bn[0][0]']   \n",
            " (Activation)                                                                                     \n",
            "                                                                                                  \n",
            " block2b_dwconv (DepthwiseC  (None, 56, 56, 144)          1296      ['block2b_expand_activation[0]\n",
            " onv2D)                                                             [0]']                         \n",
            "                                                                                                  \n",
            " block2b_bn (BatchNormaliza  (None, 56, 56, 144)          576       ['block2b_dwconv[0][0]']      \n",
            " tion)                                                                                            \n",
            "                                                                                                  \n",
            " block2b_activation (Activa  (None, 56, 56, 144)          0         ['block2b_bn[0][0]']          \n",
            " tion)                                                                                            \n",
            "                                                                                                  \n",
            " block2b_se_squeeze (Global  (None, 144)                  0         ['block2b_activation[0][0]']  \n",
            " AveragePooling2D)                                                                                \n",
            "                                                                                                  \n",
            " block2b_se_reshape (Reshap  (None, 1, 1, 144)            0         ['block2b_se_squeeze[0][0]']  \n",
            " e)                                                                                               \n",
            "                                                                                                  \n",
            " block2b_se_reduce (Conv2D)  (None, 1, 1, 6)              870       ['block2b_se_reshape[0][0]']  \n",
            "                                                                                                  \n",
            " block2b_se_expand (Conv2D)  (None, 1, 1, 144)            1008      ['block2b_se_reduce[0][0]']   \n",
            "                                                                                                  \n",
            " block2b_se_excite (Multipl  (None, 56, 56, 144)          0         ['block2b_activation[0][0]',  \n",
            " y)                                                                  'block2b_se_expand[0][0]']   \n",
            "                                                                                                  \n",
            " block2b_project_conv (Conv  (None, 56, 56, 24)           3456      ['block2b_se_excite[0][0]']   \n",
            " 2D)                                                                                              \n",
            "                                                                                                  \n",
            " block2b_project_bn (BatchN  (None, 56, 56, 24)           96        ['block2b_project_conv[0][0]']\n",
            " ormalization)                                                                                    \n",
            "                                                                                                  \n",
            " block2b_drop (Dropout)      (None, 56, 56, 24)           0         ['block2b_project_bn[0][0]']  \n",
            "                                                                                                  \n",
            " block2b_add (Add)           (None, 56, 56, 24)           0         ['block2b_drop[0][0]',        \n",
            "                                                                     'block2a_project_bn[0][0]']  \n",
            "                                                                                                  \n",
            " block3a_expand_conv (Conv2  (None, 56, 56, 144)          3456      ['block2b_add[0][0]']         \n",
            " D)                                                                                               \n",
            "                                                                                                  \n",
            " block3a_expand_bn (BatchNo  (None, 56, 56, 144)          576       ['block3a_expand_conv[0][0]'] \n",
            " rmalization)                                                                                     \n",
            "                                                                                                  \n",
            " block3a_expand_activation   (None, 56, 56, 144)          0         ['block3a_expand_bn[0][0]']   \n",
            " (Activation)                                                                                     \n",
            "                                                                                                  \n",
            " block3a_dwconv_pad (ZeroPa  (None, 59, 59, 144)          0         ['block3a_expand_activation[0]\n",
            " dding2D)                                                           [0]']                         \n",
            "                                                                                                  \n",
            " block3a_dwconv (DepthwiseC  (None, 28, 28, 144)          3600      ['block3a_dwconv_pad[0][0]']  \n",
            " onv2D)                                                                                           \n",
            "                                                                                                  \n",
            " block3a_bn (BatchNormaliza  (None, 28, 28, 144)          576       ['block3a_dwconv[0][0]']      \n",
            " tion)                                                                                            \n",
            "                                                                                                  \n",
            " block3a_activation (Activa  (None, 28, 28, 144)          0         ['block3a_bn[0][0]']          \n",
            " tion)                                                                                            \n",
            "                                                                                                  \n",
            " block3a_se_squeeze (Global  (None, 144)                  0         ['block3a_activation[0][0]']  \n",
            " AveragePooling2D)                                                                                \n",
            "                                                                                                  \n",
            " block3a_se_reshape (Reshap  (None, 1, 1, 144)            0         ['block3a_se_squeeze[0][0]']  \n",
            " e)                                                                                               \n",
            "                                                                                                  \n",
            " block3a_se_reduce (Conv2D)  (None, 1, 1, 6)              870       ['block3a_se_reshape[0][0]']  \n",
            "                                                                                                  \n",
            " block3a_se_expand (Conv2D)  (None, 1, 1, 144)            1008      ['block3a_se_reduce[0][0]']   \n",
            "                                                                                                  \n",
            " block3a_se_excite (Multipl  (None, 28, 28, 144)          0         ['block3a_activation[0][0]',  \n",
            " y)                                                                  'block3a_se_expand[0][0]']   \n",
            "                                                                                                  \n",
            " block3a_project_conv (Conv  (None, 28, 28, 40)           5760      ['block3a_se_excite[0][0]']   \n",
            " 2D)                                                                                              \n",
            "                                                                                                  \n",
            " block3a_project_bn (BatchN  (None, 28, 28, 40)           160       ['block3a_project_conv[0][0]']\n",
            " ormalization)                                                                                    \n",
            "                                                                                                  \n",
            " block3b_expand_conv (Conv2  (None, 28, 28, 240)          9600      ['block3a_project_bn[0][0]']  \n",
            " D)                                                                                               \n",
            "                                                                                                  \n",
            " block3b_expand_bn (BatchNo  (None, 28, 28, 240)          960       ['block3b_expand_conv[0][0]'] \n",
            " rmalization)                                                                                     \n",
            "                                                                                                  \n",
            " block3b_expand_activation   (None, 28, 28, 240)          0         ['block3b_expand_bn[0][0]']   \n",
            " (Activation)                                                                                     \n",
            "                                                                                                  \n",
            " block3b_dwconv (DepthwiseC  (None, 28, 28, 240)          6000      ['block3b_expand_activation[0]\n",
            " onv2D)                                                             [0]']                         \n",
            "                                                                                                  \n",
            " block3b_bn (BatchNormaliza  (None, 28, 28, 240)          960       ['block3b_dwconv[0][0]']      \n",
            " tion)                                                                                            \n",
            "                                                                                                  \n",
            " block3b_activation (Activa  (None, 28, 28, 240)          0         ['block3b_bn[0][0]']          \n",
            " tion)                                                                                            \n",
            "                                                                                                  \n",
            " block3b_se_squeeze (Global  (None, 240)                  0         ['block3b_activation[0][0]']  \n",
            " AveragePooling2D)                                                                                \n",
            "                                                                                                  \n",
            " block3b_se_reshape (Reshap  (None, 1, 1, 240)            0         ['block3b_se_squeeze[0][0]']  \n",
            " e)                                                                                               \n",
            "                                                                                                  \n",
            " block3b_se_reduce (Conv2D)  (None, 1, 1, 10)             2410      ['block3b_se_reshape[0][0]']  \n",
            "                                                                                                  \n",
            " block3b_se_expand (Conv2D)  (None, 1, 1, 240)            2640      ['block3b_se_reduce[0][0]']   \n",
            "                                                                                                  \n",
            " block3b_se_excite (Multipl  (None, 28, 28, 240)          0         ['block3b_activation[0][0]',  \n",
            " y)                                                                  'block3b_se_expand[0][0]']   \n",
            "                                                                                                  \n",
            " block3b_project_conv (Conv  (None, 28, 28, 40)           9600      ['block3b_se_excite[0][0]']   \n",
            " 2D)                                                                                              \n",
            "                                                                                                  \n",
            " block3b_project_bn (BatchN  (None, 28, 28, 40)           160       ['block3b_project_conv[0][0]']\n",
            " ormalization)                                                                                    \n",
            "                                                                                                  \n",
            " block3b_drop (Dropout)      (None, 28, 28, 40)           0         ['block3b_project_bn[0][0]']  \n",
            "                                                                                                  \n",
            " block3b_add (Add)           (None, 28, 28, 40)           0         ['block3b_drop[0][0]',        \n",
            "                                                                     'block3a_project_bn[0][0]']  \n",
            "                                                                                                  \n",
            " block4a_expand_conv (Conv2  (None, 28, 28, 240)          9600      ['block3b_add[0][0]']         \n",
            " D)                                                                                               \n",
            "                                                                                                  \n",
            " block4a_expand_bn (BatchNo  (None, 28, 28, 240)          960       ['block4a_expand_conv[0][0]'] \n",
            " rmalization)                                                                                     \n",
            "                                                                                                  \n",
            " block4a_expand_activation   (None, 28, 28, 240)          0         ['block4a_expand_bn[0][0]']   \n",
            " (Activation)                                                                                     \n",
            "                                                                                                  \n",
            " block4a_dwconv_pad (ZeroPa  (None, 29, 29, 240)          0         ['block4a_expand_activation[0]\n",
            " dding2D)                                                           [0]']                         \n",
            "                                                                                                  \n",
            " block4a_dwconv (DepthwiseC  (None, 14, 14, 240)          2160      ['block4a_dwconv_pad[0][0]']  \n",
            " onv2D)                                                                                           \n",
            "                                                                                                  \n",
            " block4a_bn (BatchNormaliza  (None, 14, 14, 240)          960       ['block4a_dwconv[0][0]']      \n",
            " tion)                                                                                            \n",
            "                                                                                                  \n",
            " block4a_activation (Activa  (None, 14, 14, 240)          0         ['block4a_bn[0][0]']          \n",
            " tion)                                                                                            \n",
            "                                                                                                  \n",
            " block4a_se_squeeze (Global  (None, 240)                  0         ['block4a_activation[0][0]']  \n",
            " AveragePooling2D)                                                                                \n",
            "                                                                                                  \n",
            " block4a_se_reshape (Reshap  (None, 1, 1, 240)            0         ['block4a_se_squeeze[0][0]']  \n",
            " e)                                                                                               \n",
            "                                                                                                  \n",
            " block4a_se_reduce (Conv2D)  (None, 1, 1, 10)             2410      ['block4a_se_reshape[0][0]']  \n",
            "                                                                                                  \n",
            " block4a_se_expand (Conv2D)  (None, 1, 1, 240)            2640      ['block4a_se_reduce[0][0]']   \n",
            "                                                                                                  \n",
            " block4a_se_excite (Multipl  (None, 14, 14, 240)          0         ['block4a_activation[0][0]',  \n",
            " y)                                                                  'block4a_se_expand[0][0]']   \n",
            "                                                                                                  \n",
            " block4a_project_conv (Conv  (None, 14, 14, 80)           19200     ['block4a_se_excite[0][0]']   \n",
            " 2D)                                                                                              \n",
            "                                                                                                  \n",
            " block4a_project_bn (BatchN  (None, 14, 14, 80)           320       ['block4a_project_conv[0][0]']\n",
            " ormalization)                                                                                    \n",
            "                                                                                                  \n",
            " block4b_expand_conv (Conv2  (None, 14, 14, 480)          38400     ['block4a_project_bn[0][0]']  \n",
            " D)                                                                                               \n",
            "                                                                                                  \n",
            " block4b_expand_bn (BatchNo  (None, 14, 14, 480)          1920      ['block4b_expand_conv[0][0]'] \n",
            " rmalization)                                                                                     \n",
            "                                                                                                  \n",
            " block4b_expand_activation   (None, 14, 14, 480)          0         ['block4b_expand_bn[0][0]']   \n",
            " (Activation)                                                                                     \n",
            "                                                                                                  \n",
            " block4b_dwconv (DepthwiseC  (None, 14, 14, 480)          4320      ['block4b_expand_activation[0]\n",
            " onv2D)                                                             [0]']                         \n",
            "                                                                                                  \n",
            " block4b_bn (BatchNormaliza  (None, 14, 14, 480)          1920      ['block4b_dwconv[0][0]']      \n",
            " tion)                                                                                            \n",
            "                                                                                                  \n",
            " block4b_activation (Activa  (None, 14, 14, 480)          0         ['block4b_bn[0][0]']          \n",
            " tion)                                                                                            \n",
            "                                                                                                  \n",
            " block4b_se_squeeze (Global  (None, 480)                  0         ['block4b_activation[0][0]']  \n",
            " AveragePooling2D)                                                                                \n",
            "                                                                                                  \n",
            " block4b_se_reshape (Reshap  (None, 1, 1, 480)            0         ['block4b_se_squeeze[0][0]']  \n",
            " e)                                                                                               \n",
            "                                                                                                  \n",
            " block4b_se_reduce (Conv2D)  (None, 1, 1, 20)             9620      ['block4b_se_reshape[0][0]']  \n",
            "                                                                                                  \n",
            " block4b_se_expand (Conv2D)  (None, 1, 1, 480)            10080     ['block4b_se_reduce[0][0]']   \n",
            "                                                                                                  \n",
            " block4b_se_excite (Multipl  (None, 14, 14, 480)          0         ['block4b_activation[0][0]',  \n",
            " y)                                                                  'block4b_se_expand[0][0]']   \n",
            "                                                                                                  \n",
            " block4b_project_conv (Conv  (None, 14, 14, 80)           38400     ['block4b_se_excite[0][0]']   \n",
            " 2D)                                                                                              \n",
            "                                                                                                  \n",
            " block4b_project_bn (BatchN  (None, 14, 14, 80)           320       ['block4b_project_conv[0][0]']\n",
            " ormalization)                                                                                    \n",
            "                                                                                                  \n",
            " block4b_drop (Dropout)      (None, 14, 14, 80)           0         ['block4b_project_bn[0][0]']  \n",
            "                                                                                                  \n",
            " block4b_add (Add)           (None, 14, 14, 80)           0         ['block4b_drop[0][0]',        \n",
            "                                                                     'block4a_project_bn[0][0]']  \n",
            "                                                                                                  \n",
            " block4c_expand_conv (Conv2  (None, 14, 14, 480)          38400     ['block4b_add[0][0]']         \n",
            " D)                                                                                               \n",
            "                                                                                                  \n",
            " block4c_expand_bn (BatchNo  (None, 14, 14, 480)          1920      ['block4c_expand_conv[0][0]'] \n",
            " rmalization)                                                                                     \n",
            "                                                                                                  \n",
            " block4c_expand_activation   (None, 14, 14, 480)          0         ['block4c_expand_bn[0][0]']   \n",
            " (Activation)                                                                                     \n",
            "                                                                                                  \n",
            " block4c_dwconv (DepthwiseC  (None, 14, 14, 480)          4320      ['block4c_expand_activation[0]\n",
            " onv2D)                                                             [0]']                         \n",
            "                                                                                                  \n",
            " block4c_bn (BatchNormaliza  (None, 14, 14, 480)          1920      ['block4c_dwconv[0][0]']      \n",
            " tion)                                                                                            \n",
            "                                                                                                  \n",
            " block4c_activation (Activa  (None, 14, 14, 480)          0         ['block4c_bn[0][0]']          \n",
            " tion)                                                                                            \n",
            "                                                                                                  \n",
            " block4c_se_squeeze (Global  (None, 480)                  0         ['block4c_activation[0][0]']  \n",
            " AveragePooling2D)                                                                                \n",
            "                                                                                                  \n",
            " block4c_se_reshape (Reshap  (None, 1, 1, 480)            0         ['block4c_se_squeeze[0][0]']  \n",
            " e)                                                                                               \n",
            "                                                                                                  \n",
            " block4c_se_reduce (Conv2D)  (None, 1, 1, 20)             9620      ['block4c_se_reshape[0][0]']  \n",
            "                                                                                                  \n",
            " block4c_se_expand (Conv2D)  (None, 1, 1, 480)            10080     ['block4c_se_reduce[0][0]']   \n",
            "                                                                                                  \n",
            " block4c_se_excite (Multipl  (None, 14, 14, 480)          0         ['block4c_activation[0][0]',  \n",
            " y)                                                                  'block4c_se_expand[0][0]']   \n",
            "                                                                                                  \n",
            " block4c_project_conv (Conv  (None, 14, 14, 80)           38400     ['block4c_se_excite[0][0]']   \n",
            " 2D)                                                                                              \n",
            "                                                                                                  \n",
            " block4c_project_bn (BatchN  (None, 14, 14, 80)           320       ['block4c_project_conv[0][0]']\n",
            " ormalization)                                                                                    \n",
            "                                                                                                  \n",
            " block4c_drop (Dropout)      (None, 14, 14, 80)           0         ['block4c_project_bn[0][0]']  \n",
            "                                                                                                  \n",
            " block4c_add (Add)           (None, 14, 14, 80)           0         ['block4c_drop[0][0]',        \n",
            "                                                                     'block4b_add[0][0]']         \n",
            "                                                                                                  \n",
            " block5a_expand_conv (Conv2  (None, 14, 14, 480)          38400     ['block4c_add[0][0]']         \n",
            " D)                                                                                               \n",
            "                                                                                                  \n",
            " block5a_expand_bn (BatchNo  (None, 14, 14, 480)          1920      ['block5a_expand_conv[0][0]'] \n",
            " rmalization)                                                                                     \n",
            "                                                                                                  \n",
            " block5a_expand_activation   (None, 14, 14, 480)          0         ['block5a_expand_bn[0][0]']   \n",
            " (Activation)                                                                                     \n",
            "                                                                                                  \n",
            " block5a_dwconv (DepthwiseC  (None, 14, 14, 480)          12000     ['block5a_expand_activation[0]\n",
            " onv2D)                                                             [0]']                         \n",
            "                                                                                                  \n",
            " block5a_bn (BatchNormaliza  (None, 14, 14, 480)          1920      ['block5a_dwconv[0][0]']      \n",
            " tion)                                                                                            \n",
            "                                                                                                  \n",
            " block5a_activation (Activa  (None, 14, 14, 480)          0         ['block5a_bn[0][0]']          \n",
            " tion)                                                                                            \n",
            "                                                                                                  \n",
            " block5a_se_squeeze (Global  (None, 480)                  0         ['block5a_activation[0][0]']  \n",
            " AveragePooling2D)                                                                                \n",
            "                                                                                                  \n",
            " block5a_se_reshape (Reshap  (None, 1, 1, 480)            0         ['block5a_se_squeeze[0][0]']  \n",
            " e)                                                                                               \n",
            "                                                                                                  \n",
            " block5a_se_reduce (Conv2D)  (None, 1, 1, 20)             9620      ['block5a_se_reshape[0][0]']  \n",
            "                                                                                                  \n",
            " block5a_se_expand (Conv2D)  (None, 1, 1, 480)            10080     ['block5a_se_reduce[0][0]']   \n",
            "                                                                                                  \n",
            " block5a_se_excite (Multipl  (None, 14, 14, 480)          0         ['block5a_activation[0][0]',  \n",
            " y)                                                                  'block5a_se_expand[0][0]']   \n",
            "                                                                                                  \n",
            " block5a_project_conv (Conv  (None, 14, 14, 112)          53760     ['block5a_se_excite[0][0]']   \n",
            " 2D)                                                                                              \n",
            "                                                                                                  \n",
            " block5a_project_bn (BatchN  (None, 14, 14, 112)          448       ['block5a_project_conv[0][0]']\n",
            " ormalization)                                                                                    \n",
            "                                                                                                  \n",
            " block5b_expand_conv (Conv2  (None, 14, 14, 672)          75264     ['block5a_project_bn[0][0]']  \n",
            " D)                                                                                               \n",
            "                                                                                                  \n",
            " block5b_expand_bn (BatchNo  (None, 14, 14, 672)          2688      ['block5b_expand_conv[0][0]'] \n",
            " rmalization)                                                                                     \n",
            "                                                                                                  \n",
            " block5b_expand_activation   (None, 14, 14, 672)          0         ['block5b_expand_bn[0][0]']   \n",
            " (Activation)                                                                                     \n",
            "                                                                                                  \n",
            " block5b_dwconv (DepthwiseC  (None, 14, 14, 672)          16800     ['block5b_expand_activation[0]\n",
            " onv2D)                                                             [0]']                         \n",
            "                                                                                                  \n",
            " block5b_bn (BatchNormaliza  (None, 14, 14, 672)          2688      ['block5b_dwconv[0][0]']      \n",
            " tion)                                                                                            \n",
            "                                                                                                  \n",
            " block5b_activation (Activa  (None, 14, 14, 672)          0         ['block5b_bn[0][0]']          \n",
            " tion)                                                                                            \n",
            "                                                                                                  \n",
            " block5b_se_squeeze (Global  (None, 672)                  0         ['block5b_activation[0][0]']  \n",
            " AveragePooling2D)                                                                                \n",
            "                                                                                                  \n",
            " block5b_se_reshape (Reshap  (None, 1, 1, 672)            0         ['block5b_se_squeeze[0][0]']  \n",
            " e)                                                                                               \n",
            "                                                                                                  \n",
            " block5b_se_reduce (Conv2D)  (None, 1, 1, 28)             18844     ['block5b_se_reshape[0][0]']  \n",
            "                                                                                                  \n",
            " block5b_se_expand (Conv2D)  (None, 1, 1, 672)            19488     ['block5b_se_reduce[0][0]']   \n",
            "                                                                                                  \n",
            " block5b_se_excite (Multipl  (None, 14, 14, 672)          0         ['block5b_activation[0][0]',  \n",
            " y)                                                                  'block5b_se_expand[0][0]']   \n",
            "                                                                                                  \n",
            " block5b_project_conv (Conv  (None, 14, 14, 112)          75264     ['block5b_se_excite[0][0]']   \n",
            " 2D)                                                                                              \n",
            "                                                                                                  \n",
            " block5b_project_bn (BatchN  (None, 14, 14, 112)          448       ['block5b_project_conv[0][0]']\n",
            " ormalization)                                                                                    \n",
            "                                                                                                  \n",
            " block5b_drop (Dropout)      (None, 14, 14, 112)          0         ['block5b_project_bn[0][0]']  \n",
            "                                                                                                  \n",
            " block5b_add (Add)           (None, 14, 14, 112)          0         ['block5b_drop[0][0]',        \n",
            "                                                                     'block5a_project_bn[0][0]']  \n",
            "                                                                                                  \n",
            " block5c_expand_conv (Conv2  (None, 14, 14, 672)          75264     ['block5b_add[0][0]']         \n",
            " D)                                                                                               \n",
            "                                                                                                  \n",
            " block5c_expand_bn (BatchNo  (None, 14, 14, 672)          2688      ['block5c_expand_conv[0][0]'] \n",
            " rmalization)                                                                                     \n",
            "                                                                                                  \n",
            " block5c_expand_activation   (None, 14, 14, 672)          0         ['block5c_expand_bn[0][0]']   \n",
            " (Activation)                                                                                     \n",
            "                                                                                                  \n",
            " block5c_dwconv (DepthwiseC  (None, 14, 14, 672)          16800     ['block5c_expand_activation[0]\n",
            " onv2D)                                                             [0]']                         \n",
            "                                                                                                  \n",
            " block5c_bn (BatchNormaliza  (None, 14, 14, 672)          2688      ['block5c_dwconv[0][0]']      \n",
            " tion)                                                                                            \n",
            "                                                                                                  \n",
            " block5c_activation (Activa  (None, 14, 14, 672)          0         ['block5c_bn[0][0]']          \n",
            " tion)                                                                                            \n",
            "                                                                                                  \n",
            " block5c_se_squeeze (Global  (None, 672)                  0         ['block5c_activation[0][0]']  \n",
            " AveragePooling2D)                                                                                \n",
            "                                                                                                  \n",
            " block5c_se_reshape (Reshap  (None, 1, 1, 672)            0         ['block5c_se_squeeze[0][0]']  \n",
            " e)                                                                                               \n",
            "                                                                                                  \n",
            " block5c_se_reduce (Conv2D)  (None, 1, 1, 28)             18844     ['block5c_se_reshape[0][0]']  \n",
            "                                                                                                  \n",
            " block5c_se_expand (Conv2D)  (None, 1, 1, 672)            19488     ['block5c_se_reduce[0][0]']   \n",
            "                                                                                                  \n",
            " block5c_se_excite (Multipl  (None, 14, 14, 672)          0         ['block5c_activation[0][0]',  \n",
            " y)                                                                  'block5c_se_expand[0][0]']   \n",
            "                                                                                                  \n",
            " block5c_project_conv (Conv  (None, 14, 14, 112)          75264     ['block5c_se_excite[0][0]']   \n",
            " 2D)                                                                                              \n",
            "                                                                                                  \n",
            " block5c_project_bn (BatchN  (None, 14, 14, 112)          448       ['block5c_project_conv[0][0]']\n",
            " ormalization)                                                                                    \n",
            "                                                                                                  \n",
            " block5c_drop (Dropout)      (None, 14, 14, 112)          0         ['block5c_project_bn[0][0]']  \n",
            "                                                                                                  \n",
            " block5c_add (Add)           (None, 14, 14, 112)          0         ['block5c_drop[0][0]',        \n",
            "                                                                     'block5b_add[0][0]']         \n",
            "                                                                                                  \n",
            " block6a_expand_conv (Conv2  (None, 14, 14, 672)          75264     ['block5c_add[0][0]']         \n",
            " D)                                                                                               \n",
            "                                                                                                  \n",
            " block6a_expand_bn (BatchNo  (None, 14, 14, 672)          2688      ['block6a_expand_conv[0][0]'] \n",
            " rmalization)                                                                                     \n",
            "                                                                                                  \n",
            " block6a_expand_activation   (None, 14, 14, 672)          0         ['block6a_expand_bn[0][0]']   \n",
            " (Activation)                                                                                     \n",
            "                                                                                                  \n",
            " block6a_dwconv_pad (ZeroPa  (None, 17, 17, 672)          0         ['block6a_expand_activation[0]\n",
            " dding2D)                                                           [0]']                         \n",
            "                                                                                                  \n",
            " block6a_dwconv (DepthwiseC  (None, 7, 7, 672)            16800     ['block6a_dwconv_pad[0][0]']  \n",
            " onv2D)                                                                                           \n",
            "                                                                                                  \n",
            " block6a_bn (BatchNormaliza  (None, 7, 7, 672)            2688      ['block6a_dwconv[0][0]']      \n",
            " tion)                                                                                            \n",
            "                                                                                                  \n",
            " block6a_activation (Activa  (None, 7, 7, 672)            0         ['block6a_bn[0][0]']          \n",
            " tion)                                                                                            \n",
            "                                                                                                  \n",
            " block6a_se_squeeze (Global  (None, 672)                  0         ['block6a_activation[0][0]']  \n",
            " AveragePooling2D)                                                                                \n",
            "                                                                                                  \n",
            " block6a_se_reshape (Reshap  (None, 1, 1, 672)            0         ['block6a_se_squeeze[0][0]']  \n",
            " e)                                                                                               \n",
            "                                                                                                  \n",
            " block6a_se_reduce (Conv2D)  (None, 1, 1, 28)             18844     ['block6a_se_reshape[0][0]']  \n",
            "                                                                                                  \n",
            " block6a_se_expand (Conv2D)  (None, 1, 1, 672)            19488     ['block6a_se_reduce[0][0]']   \n",
            "                                                                                                  \n",
            " block6a_se_excite (Multipl  (None, 7, 7, 672)            0         ['block6a_activation[0][0]',  \n",
            " y)                                                                  'block6a_se_expand[0][0]']   \n",
            "                                                                                                  \n",
            " block6a_project_conv (Conv  (None, 7, 7, 192)            129024    ['block6a_se_excite[0][0]']   \n",
            " 2D)                                                                                              \n",
            "                                                                                                  \n",
            " block6a_project_bn (BatchN  (None, 7, 7, 192)            768       ['block6a_project_conv[0][0]']\n",
            " ormalization)                                                                                    \n",
            "                                                                                                  \n",
            " block6b_expand_conv (Conv2  (None, 7, 7, 1152)           221184    ['block6a_project_bn[0][0]']  \n",
            " D)                                                                                               \n",
            "                                                                                                  \n",
            " block6b_expand_bn (BatchNo  (None, 7, 7, 1152)           4608      ['block6b_expand_conv[0][0]'] \n",
            " rmalization)                                                                                     \n",
            "                                                                                                  \n",
            " block6b_expand_activation   (None, 7, 7, 1152)           0         ['block6b_expand_bn[0][0]']   \n",
            " (Activation)                                                                                     \n",
            "                                                                                                  \n",
            " block6b_dwconv (DepthwiseC  (None, 7, 7, 1152)           28800     ['block6b_expand_activation[0]\n",
            " onv2D)                                                             [0]']                         \n",
            "                                                                                                  \n",
            " block6b_bn (BatchNormaliza  (None, 7, 7, 1152)           4608      ['block6b_dwconv[0][0]']      \n",
            " tion)                                                                                            \n",
            "                                                                                                  \n",
            " block6b_activation (Activa  (None, 7, 7, 1152)           0         ['block6b_bn[0][0]']          \n",
            " tion)                                                                                            \n",
            "                                                                                                  \n",
            " block6b_se_squeeze (Global  (None, 1152)                 0         ['block6b_activation[0][0]']  \n",
            " AveragePooling2D)                                                                                \n",
            "                                                                                                  \n",
            " block6b_se_reshape (Reshap  (None, 1, 1, 1152)           0         ['block6b_se_squeeze[0][0]']  \n",
            " e)                                                                                               \n",
            "                                                                                                  \n",
            " block6b_se_reduce (Conv2D)  (None, 1, 1, 48)             55344     ['block6b_se_reshape[0][0]']  \n",
            "                                                                                                  \n",
            " block6b_se_expand (Conv2D)  (None, 1, 1, 1152)           56448     ['block6b_se_reduce[0][0]']   \n",
            "                                                                                                  \n",
            " block6b_se_excite (Multipl  (None, 7, 7, 1152)           0         ['block6b_activation[0][0]',  \n",
            " y)                                                                  'block6b_se_expand[0][0]']   \n",
            "                                                                                                  \n",
            " block6b_project_conv (Conv  (None, 7, 7, 192)            221184    ['block6b_se_excite[0][0]']   \n",
            " 2D)                                                                                              \n",
            "                                                                                                  \n",
            " block6b_project_bn (BatchN  (None, 7, 7, 192)            768       ['block6b_project_conv[0][0]']\n",
            " ormalization)                                                                                    \n",
            "                                                                                                  \n",
            " block6b_drop (Dropout)      (None, 7, 7, 192)            0         ['block6b_project_bn[0][0]']  \n",
            "                                                                                                  \n",
            " block6b_add (Add)           (None, 7, 7, 192)            0         ['block6b_drop[0][0]',        \n",
            "                                                                     'block6a_project_bn[0][0]']  \n",
            "                                                                                                  \n",
            " block6c_expand_conv (Conv2  (None, 7, 7, 1152)           221184    ['block6b_add[0][0]']         \n",
            " D)                                                                                               \n",
            "                                                                                                  \n",
            " block6c_expand_bn (BatchNo  (None, 7, 7, 1152)           4608      ['block6c_expand_conv[0][0]'] \n",
            " rmalization)                                                                                     \n",
            "                                                                                                  \n",
            " block6c_expand_activation   (None, 7, 7, 1152)           0         ['block6c_expand_bn[0][0]']   \n",
            " (Activation)                                                                                     \n",
            "                                                                                                  \n",
            " block6c_dwconv (DepthwiseC  (None, 7, 7, 1152)           28800     ['block6c_expand_activation[0]\n",
            " onv2D)                                                             [0]']                         \n",
            "                                                                                                  \n",
            " block6c_bn (BatchNormaliza  (None, 7, 7, 1152)           4608      ['block6c_dwconv[0][0]']      \n",
            " tion)                                                                                            \n",
            "                                                                                                  \n",
            " block6c_activation (Activa  (None, 7, 7, 1152)           0         ['block6c_bn[0][0]']          \n",
            " tion)                                                                                            \n",
            "                                                                                                  \n",
            " block6c_se_squeeze (Global  (None, 1152)                 0         ['block6c_activation[0][0]']  \n",
            " AveragePooling2D)                                                                                \n",
            "                                                                                                  \n",
            " block6c_se_reshape (Reshap  (None, 1, 1, 1152)           0         ['block6c_se_squeeze[0][0]']  \n",
            " e)                                                                                               \n",
            "                                                                                                  \n",
            " block6c_se_reduce (Conv2D)  (None, 1, 1, 48)             55344     ['block6c_se_reshape[0][0]']  \n",
            "                                                                                                  \n",
            " block6c_se_expand (Conv2D)  (None, 1, 1, 1152)           56448     ['block6c_se_reduce[0][0]']   \n",
            "                                                                                                  \n",
            " block6c_se_excite (Multipl  (None, 7, 7, 1152)           0         ['block6c_activation[0][0]',  \n",
            " y)                                                                  'block6c_se_expand[0][0]']   \n",
            "                                                                                                  \n",
            " block6c_project_conv (Conv  (None, 7, 7, 192)            221184    ['block6c_se_excite[0][0]']   \n",
            " 2D)                                                                                              \n",
            "                                                                                                  \n",
            " block6c_project_bn (BatchN  (None, 7, 7, 192)            768       ['block6c_project_conv[0][0]']\n",
            " ormalization)                                                                                    \n",
            "                                                                                                  \n",
            " block6c_drop (Dropout)      (None, 7, 7, 192)            0         ['block6c_project_bn[0][0]']  \n",
            "                                                                                                  \n",
            " block6c_add (Add)           (None, 7, 7, 192)            0         ['block6c_drop[0][0]',        \n",
            "                                                                     'block6b_add[0][0]']         \n",
            "                                                                                                  \n",
            " block6d_expand_conv (Conv2  (None, 7, 7, 1152)           221184    ['block6c_add[0][0]']         \n",
            " D)                                                                                               \n",
            "                                                                                                  \n",
            " block6d_expand_bn (BatchNo  (None, 7, 7, 1152)           4608      ['block6d_expand_conv[0][0]'] \n",
            " rmalization)                                                                                     \n",
            "                                                                                                  \n",
            " block6d_expand_activation   (None, 7, 7, 1152)           0         ['block6d_expand_bn[0][0]']   \n",
            " (Activation)                                                                                     \n",
            "                                                                                                  \n",
            " block6d_dwconv (DepthwiseC  (None, 7, 7, 1152)           28800     ['block6d_expand_activation[0]\n",
            " onv2D)                                                             [0]']                         \n",
            "                                                                                                  \n",
            " block6d_bn (BatchNormaliza  (None, 7, 7, 1152)           4608      ['block6d_dwconv[0][0]']      \n",
            " tion)                                                                                            \n",
            "                                                                                                  \n",
            " block6d_activation (Activa  (None, 7, 7, 1152)           0         ['block6d_bn[0][0]']          \n",
            " tion)                                                                                            \n",
            "                                                                                                  \n",
            " block6d_se_squeeze (Global  (None, 1152)                 0         ['block6d_activation[0][0]']  \n",
            " AveragePooling2D)                                                                                \n",
            "                                                                                                  \n",
            " block6d_se_reshape (Reshap  (None, 1, 1, 1152)           0         ['block6d_se_squeeze[0][0]']  \n",
            " e)                                                                                               \n",
            "                                                                                                  \n",
            " block6d_se_reduce (Conv2D)  (None, 1, 1, 48)             55344     ['block6d_se_reshape[0][0]']  \n",
            "                                                                                                  \n",
            " block6d_se_expand (Conv2D)  (None, 1, 1, 1152)           56448     ['block6d_se_reduce[0][0]']   \n",
            "                                                                                                  \n",
            " block6d_se_excite (Multipl  (None, 7, 7, 1152)           0         ['block6d_activation[0][0]',  \n",
            " y)                                                                  'block6d_se_expand[0][0]']   \n",
            "                                                                                                  \n",
            " block6d_project_conv (Conv  (None, 7, 7, 192)            221184    ['block6d_se_excite[0][0]']   \n",
            " 2D)                                                                                              \n",
            "                                                                                                  \n",
            " block6d_project_bn (BatchN  (None, 7, 7, 192)            768       ['block6d_project_conv[0][0]']\n",
            " ormalization)                                                                                    \n",
            "                                                                                                  \n",
            " block6d_drop (Dropout)      (None, 7, 7, 192)            0         ['block6d_project_bn[0][0]']  \n",
            "                                                                                                  \n",
            " block6d_add (Add)           (None, 7, 7, 192)            0         ['block6d_drop[0][0]',        \n",
            "                                                                     'block6c_add[0][0]']         \n",
            "                                                                                                  \n",
            " block7a_expand_conv (Conv2  (None, 7, 7, 1152)           221184    ['block6d_add[0][0]']         \n",
            " D)                                                                                               \n",
            "                                                                                                  \n",
            " block7a_expand_bn (BatchNo  (None, 7, 7, 1152)           4608      ['block7a_expand_conv[0][0]'] \n",
            " rmalization)                                                                                     \n",
            "                                                                                                  \n",
            " block7a_expand_activation   (None, 7, 7, 1152)           0         ['block7a_expand_bn[0][0]']   \n",
            " (Activation)                                                                                     \n",
            "                                                                                                  \n",
            " block7a_dwconv (DepthwiseC  (None, 7, 7, 1152)           10368     ['block7a_expand_activation[0]\n",
            " onv2D)                                                             [0]']                         \n",
            "                                                                                                  \n",
            " block7a_bn (BatchNormaliza  (None, 7, 7, 1152)           4608      ['block7a_dwconv[0][0]']      \n",
            " tion)                                                                                            \n",
            "                                                                                                  \n",
            " block7a_activation (Activa  (None, 7, 7, 1152)           0         ['block7a_bn[0][0]']          \n",
            " tion)                                                                                            \n",
            "                                                                                                  \n",
            " block7a_se_squeeze (Global  (None, 1152)                 0         ['block7a_activation[0][0]']  \n",
            " AveragePooling2D)                                                                                \n",
            "                                                                                                  \n",
            " block7a_se_reshape (Reshap  (None, 1, 1, 1152)           0         ['block7a_se_squeeze[0][0]']  \n",
            " e)                                                                                               \n",
            "                                                                                                  \n",
            " block7a_se_reduce (Conv2D)  (None, 1, 1, 48)             55344     ['block7a_se_reshape[0][0]']  \n",
            "                                                                                                  \n",
            " block7a_se_expand (Conv2D)  (None, 1, 1, 1152)           56448     ['block7a_se_reduce[0][0]']   \n",
            "                                                                                                  \n",
            " block7a_se_excite (Multipl  (None, 7, 7, 1152)           0         ['block7a_activation[0][0]',  \n",
            " y)                                                                  'block7a_se_expand[0][0]']   \n",
            "                                                                                                  \n",
            " block7a_project_conv (Conv  (None, 7, 7, 320)            368640    ['block7a_se_excite[0][0]']   \n",
            " 2D)                                                                                              \n",
            "                                                                                                  \n",
            " block7a_project_bn (BatchN  (None, 7, 7, 320)            1280      ['block7a_project_conv[0][0]']\n",
            " ormalization)                                                                                    \n",
            "                                                                                                  \n",
            " top_conv (Conv2D)           (None, 7, 7, 1280)           409600    ['block7a_project_bn[0][0]']  \n",
            "                                                                                                  \n",
            " top_bn (BatchNormalization  (None, 7, 7, 1280)           5120      ['top_conv[0][0]']            \n",
            " )                                                                                                \n",
            "                                                                                                  \n",
            " top_activation (Activation  (None, 7, 7, 1280)           0         ['top_bn[0][0]']              \n",
            " )                                                                                                \n",
            "                                                                                                  \n",
            " max_pool (GlobalMaxPooling  (None, 1280)                 0         ['top_activation[0][0]']      \n",
            " 2D)                                                                                              \n",
            "                                                                                                  \n",
            " dense_8 (Dense)             (None, 512)                  655872    ['max_pool[0][0]']            \n",
            "                                                                                                  \n",
            " dropout_6 (Dropout)         (None, 512)                  0         ['dense_8[0][0]']             \n",
            "                                                                                                  \n",
            " dense_9 (Dense)             (None, 256)                  131328    ['dropout_6[0][0]']           \n",
            "                                                                                                  \n",
            " dropout_7 (Dropout)         (None, 256)                  0         ['dense_9[0][0]']             \n",
            "                                                                                                  \n",
            " dense_10 (Dense)            (None, 128)                  32896     ['dropout_7[0][0]']           \n",
            "                                                                                                  \n",
            " dropout_8 (Dropout)         (None, 128)                  0         ['dense_10[0][0]']            \n",
            "                                                                                                  \n",
            " dense_11 (Dense)            (None, 10)                   1290      ['dropout_8[0][0]']           \n",
            "                                                                                                  \n",
            "==================================================================================================\n",
            "Total params: 4870957 (18.58 MB)\n",
            "Trainable params: 821386 (3.13 MB)\n",
            "Non-trainable params: 4049571 (15.45 MB)\n",
            "__________________________________________________________________________________________________\n"
          ]
        }
      ],
      "source": [
        "augment = tf.keras.Sequential([\n",
        "  tf.keras.layers.Rescaling(1./255),\n",
        "  tf.keras.layers.experimental.preprocessing.RandomFlip(\"horizontal\"),\n",
        "  tf.keras.layers.experimental.preprocessing.RandomRotation(0.1),\n",
        "  tf.keras.layers.experimental.preprocessing.RandomZoom(0.1),\n",
        "  tf.keras.layers.experimental.preprocessing.RandomContrast(0.1)\n",
        "  ])\n",
        "\n",
        "inputs = pretrained_model.input\n",
        "x = augment(inputs)\n",
        "\n",
        "x = tf.keras.layers.Dense(512, activation='relu')(pretrained_model.output)\n",
        "x = tf.keras.layers.Dropout(0.45)(x)\n",
        "x = tf.keras.layers.Dense(256, activation='relu')(x)\n",
        "x = tf.keras.layers.Dropout(0.45)(x)\n",
        "x = tf.keras.layers.Dense(128, activation='relu')(x)\n",
        "x = tf.keras.layers.Dropout(0.45)(x)\n",
        "\n",
        "outputs = tf.keras.layers.Dense(10, activation='softmax')(x)\n",
        "\n",
        "model = tf.keras.Model(inputs=inputs, outputs=outputs)\n",
        "\n",
        "model.summary()"
      ]
    },
    {
      "cell_type": "code",
      "execution_count": null,
      "metadata": {
        "id": "ROz1hbiWZ2LL"
      },
      "outputs": [],
      "source": [
        "model.compile(\n",
        "  optimizer='adam',\n",
        "  loss=tf.losses.SparseCategoricalCrossentropy(),\n",
        "  metrics=['accuracy'])"
      ]
    },
    {
      "cell_type": "markdown",
      "source": [
        "Обучение модели"
      ],
      "metadata": {
        "id": "exTI85LPC351"
      }
    },
    {
      "cell_type": "code",
      "execution_count": null,
      "metadata": {
        "colab": {
          "base_uri": "https://localhost:8080/"
        },
        "id": "dRHVRdiUZ5Ya",
        "outputId": "1c535733-8eb8-47dc-b4fe-1e26b03054d1"
      },
      "outputs": [
        {
          "output_type": "stream",
          "name": "stdout",
          "text": [
            "Epoch 1/10\n"
          ]
        },
        {
          "output_type": "stream",
          "name": "stderr",
          "text": [
            "ERROR:asyncio:Unclosed client session\n",
            "client_session: <aiohttp.client.ClientSession object at 0x7eb33b745e10>\n"
          ]
        },
        {
          "output_type": "stream",
          "name": "stdout",
          "text": [
            "91/91 [==============================] - 35s 277ms/step - loss: 3.0233 - accuracy: 0.2055 - val_loss: 1.6552 - val_accuracy: 0.6473\n",
            "Epoch 2/10\n",
            "91/91 [==============================] - 7s 77ms/step - loss: 1.5058 - accuracy: 0.4841 - val_loss: 0.7825 - val_accuracy: 0.8077\n",
            "Epoch 3/10\n",
            "91/91 [==============================] - 7s 75ms/step - loss: 1.0213 - accuracy: 0.6602 - val_loss: 0.4599 - val_accuracy: 0.8783\n",
            "Epoch 4/10\n",
            "91/91 [==============================] - 7s 76ms/step - loss: 0.7171 - accuracy: 0.7673 - val_loss: 0.3029 - val_accuracy: 0.9073\n",
            "Epoch 5/10\n",
            "91/91 [==============================] - 7s 78ms/step - loss: 0.5238 - accuracy: 0.8284 - val_loss: 0.2091 - val_accuracy: 0.9405\n",
            "Epoch 6/10\n",
            "91/91 [==============================] - 8s 89ms/step - loss: 0.4826 - accuracy: 0.8470 - val_loss: 0.1693 - val_accuracy: 0.9585\n",
            "Epoch 7/10\n",
            "91/91 [==============================] - 7s 75ms/step - loss: 0.3861 - accuracy: 0.8740 - val_loss: 0.1507 - val_accuracy: 0.9530\n",
            "Epoch 8/10\n",
            "91/91 [==============================] - 7s 78ms/step - loss: 0.3571 - accuracy: 0.8892 - val_loss: 0.1631 - val_accuracy: 0.9557\n",
            "Epoch 9/10\n",
            "91/91 [==============================] - 7s 75ms/step - loss: 0.2904 - accuracy: 0.9102 - val_loss: 0.1090 - val_accuracy: 0.9723\n",
            "Epoch 10/10\n",
            "91/91 [==============================] - 7s 78ms/step - loss: 0.2859 - accuracy: 0.9151 - val_loss: 0.0876 - val_accuracy: 0.9737\n"
          ]
        }
      ],
      "source": [
        "history = model.fit(\n",
        "  train_ds,\n",
        "  validation_data=val_ds,\n",
        "  epochs=10\n",
        ")"
      ]
    },
    {
      "cell_type": "markdown",
      "source": [
        "Тестирование обученной модели"
      ],
      "metadata": {
        "id": "qbMrhH1pDA-V"
      }
    },
    {
      "cell_type": "code",
      "execution_count": null,
      "metadata": {
        "colab": {
          "base_uri": "https://localhost:8080/"
        },
        "id": "W5sael5FkzDp",
        "outputId": "9ced8ea8-8543-4109-f0a2-7e38ce9a4736"
      },
      "outputs": [
        {
          "output_type": "stream",
          "name": "stdout",
          "text": [
            "1/1 [==============================] - 0s 77ms/step\n",
            "Basil, 23.20%\n",
            "['Aloe', 'Basil', 'Blackberry', 'Dandelion', 'Laurel', 'Lemon', 'Mango', 'Maple', 'Nettle', 'Oak']\n"
          ]
        }
      ],
      "source": [
        "leaf_url = \"https://preview.free3d.com/img/2020/02/2279706405139121451/zmu409oz.jpg\"\n",
        "leaf_path = tf.keras.utils.get_file(origin=leaf_url)\n",
        "\n",
        "img = tf.keras.utils.load_img(\n",
        "    leaf_path, target_size=(height, width)\n",
        ")\n",
        "img_array = tf.keras.utils.img_to_array(img)\n",
        "img_array = tf.expand_dims(img_array, 0)\n",
        "\n",
        "predictions = model.predict(img_array)\n",
        "score = tf.nn.softmax(predictions[0])\n",
        "\n",
        "print(\n",
        "    \"{}, {:.2f}%\"\n",
        "    .format(train_ds.class_names[np.argmax(score)], 100 * np.max(score))\n",
        ")\n",
        "\n",
        "print(train_ds.class_names)"
      ]
    },
    {
      "cell_type": "markdown",
      "source": [
        "Сохранение модели"
      ],
      "metadata": {
        "id": "Cg6J_eEtDDrV"
      }
    },
    {
      "cell_type": "code",
      "execution_count": null,
      "metadata": {
        "colab": {
          "base_uri": "https://localhost:8080/"
        },
        "id": "9fDZUYTKkURJ",
        "outputId": "8565c771-79e0-4318-b6a7-d79fb6306d04"
      },
      "outputs": [
        {
          "output_type": "stream",
          "name": "stderr",
          "text": [
            "/usr/local/lib/python3.10/dist-packages/keras/src/engine/training.py:3103: UserWarning: You are saving your model as an HDF5 file via `model.save()`. This file format is considered legacy. We recommend using instead the native Keras format, e.g. `model.save('my_model.keras')`.\n",
            "  saving_api.save_model(\n"
          ]
        }
      ],
      "source": [
        "model.save('model.h5')"
      ]
    },
    {
      "cell_type": "markdown",
      "source": [
        "Telegram-бот"
      ],
      "metadata": {
        "id": "dwNmdQ1hDFYH"
      }
    },
    {
      "cell_type": "code",
      "source": [
        "TOKEN = '7067365338:AAH4e-4ZkM8Xd7iWH1M33uMjmo8MrLs8qdk'\n",
        "\n",
        "bot = Bot(token=TOKEN)\n",
        "dp = Dispatcher(bot)\n",
        "class_names = ['Aloe', 'Basil', 'Blackberry', 'Dandelion', 'Laurel', 'Lemon', 'Mango', 'Maple', 'Nettle', 'Oak']\n",
        "model = keras.models.load_model('drive/MyDrive/Colab Notebooks/model.h5')\n",
        "\n",
        "\n",
        "def pred(image_path):\n",
        "    img = tf.keras.utils.load_img(\n",
        "        image_path, target_size=(224, 224)\n",
        "    )\n",
        "    img_array = tf.keras.utils.img_to_array(img)\n",
        "    img_array = tf.expand_dims(img_array, 0)\n",
        "\n",
        "    predictions = model.predict(img_array)\n",
        "    score = tf.nn.softmax(predictions[0])\n",
        "\n",
        "    print(\n",
        "        \"{}, {:.2f}%\"\n",
        "        .format(class_names[np.argmax(score)], 100 * np.max(score))\n",
        "    )\n",
        "\n",
        "    return(\n",
        "        \"{}, {:.2f}%\"\n",
        "        .format(class_names[np.argmax(score)], 100 * np.max(score))\n",
        "    )\n",
        "\n",
        "\n",
        "@dp.message_handler(commands=['start'])\n",
        "async def process_start_command(message: types.Message):\n",
        "    await message.reply(\"?\")\n",
        "\n",
        "\n",
        "@dp.message_handler(content_types=ContentType.PHOTO)\n",
        "async def get_photo(message: types.Message):\n",
        "    image_path = f'photos/{message.photo[0].file_id}.jpg'\n",
        "    photos = message.photo\n",
        "    await photos[0].download(destination=image_path)\n",
        "    predict = pred(image_path)\n",
        "    await message.reply(predict)\n",
        "\n",
        "\n",
        "async def main():\n",
        "    await dp.start_polling(bot)\n",
        "\n",
        "\n",
        "await main()"
      ],
      "metadata": {
        "colab": {
          "base_uri": "https://localhost:8080/"
        },
        "id": "u2rmMTiPv7pV",
        "outputId": "c1559f4f-4f99-42d6-dfba-a779ab311713"
      },
      "execution_count": null,
      "outputs": [
        {
          "output_type": "stream",
          "name": "stderr",
          "text": [
            "/usr/lib/python3.10/asyncio/events.py:80: DeprecationWarning: `run_cell_async` will not call `transform_cell` automatically in the future. Please pass the result to `transformed_cell` argument and any exception that happen during thetransform in `preprocessing_exc_tuple` in IPython 7.17 and above.\n",
            "  self._context.run(self._callback, *self._args)\n",
            "/usr/local/lib/python3.10/dist-packages/aiogram/types/mixins.py:40: DeprecationWarning: destination parameter is deprecated, please use destination_dir or destination_file.\n",
            "  warn_deprecated(\n"
          ]
        },
        {
          "output_type": "stream",
          "name": "stdout",
          "text": [
            "1/1 [==============================] - 1s 1s/step\n",
            "Oak, 10.57%\n"
          ]
        },
        {
          "output_type": "stream",
          "name": "stderr",
          "text": [
            "/usr/local/lib/python3.10/dist-packages/aiogram/types/mixins.py:40: DeprecationWarning: destination parameter is deprecated, please use destination_dir or destination_file.\n",
            "  warn_deprecated(\n"
          ]
        },
        {
          "output_type": "stream",
          "name": "stdout",
          "text": [
            "1/1 [==============================] - 0s 44ms/step\n",
            "Dandelion, 21.40%\n"
          ]
        },
        {
          "output_type": "stream",
          "name": "stderr",
          "text": [
            "/usr/local/lib/python3.10/dist-packages/aiogram/types/mixins.py:40: DeprecationWarning: destination parameter is deprecated, please use destination_dir or destination_file.\n",
            "  warn_deprecated(\n"
          ]
        },
        {
          "output_type": "stream",
          "name": "stdout",
          "text": [
            "1/1 [==============================] - 0s 25ms/step\n",
            "Nettle, 13.69%\n"
          ]
        },
        {
          "output_type": "stream",
          "name": "stderr",
          "text": [
            "/usr/local/lib/python3.10/dist-packages/aiogram/types/mixins.py:40: DeprecationWarning: destination parameter is deprecated, please use destination_dir or destination_file.\n",
            "  warn_deprecated(\n"
          ]
        },
        {
          "output_type": "stream",
          "name": "stdout",
          "text": [
            "1/1 [==============================] - 0s 24ms/step\n",
            "Oak, 11.81%\n"
          ]
        },
        {
          "output_type": "stream",
          "name": "stderr",
          "text": [
            "/usr/local/lib/python3.10/dist-packages/aiogram/types/mixins.py:40: DeprecationWarning: destination parameter is deprecated, please use destination_dir or destination_file.\n",
            "  warn_deprecated(\n"
          ]
        },
        {
          "output_type": "stream",
          "name": "stdout",
          "text": [
            "1/1 [==============================] - 0s 26ms/step\n",
            "Nettle, 13.61%\n"
          ]
        },
        {
          "output_type": "stream",
          "name": "stderr",
          "text": [
            "/usr/local/lib/python3.10/dist-packages/aiogram/types/mixins.py:40: DeprecationWarning: destination parameter is deprecated, please use destination_dir or destination_file.\n",
            "  warn_deprecated(\n"
          ]
        },
        {
          "output_type": "stream",
          "name": "stdout",
          "text": [
            "1/1 [==============================] - 0s 34ms/step\n",
            "Nettle, 15.67%\n"
          ]
        },
        {
          "output_type": "stream",
          "name": "stderr",
          "text": [
            "/usr/local/lib/python3.10/dist-packages/aiogram/types/mixins.py:40: DeprecationWarning: destination parameter is deprecated, please use destination_dir or destination_file.\n",
            "  warn_deprecated(\n"
          ]
        },
        {
          "output_type": "stream",
          "name": "stdout",
          "text": [
            "1/1 [==============================] - 0s 36ms/step\n",
            "Aloe, 21.72%\n"
          ]
        },
        {
          "output_type": "stream",
          "name": "stderr",
          "text": [
            "/usr/local/lib/python3.10/dist-packages/aiogram/types/mixins.py:40: DeprecationWarning: destination parameter is deprecated, please use destination_dir or destination_file.\n",
            "  warn_deprecated(\n"
          ]
        },
        {
          "output_type": "stream",
          "name": "stdout",
          "text": [
            "1/1 [==============================] - 0s 25ms/step\n",
            "Mango, 13.35%\n"
          ]
        },
        {
          "output_type": "stream",
          "name": "stderr",
          "text": [
            "/usr/local/lib/python3.10/dist-packages/aiogram/types/mixins.py:40: DeprecationWarning: destination parameter is deprecated, please use destination_dir or destination_file.\n",
            "  warn_deprecated(\n"
          ]
        },
        {
          "output_type": "stream",
          "name": "stdout",
          "text": [
            "1/1 [==============================] - 0s 36ms/step\n",
            "Mango, 11.52%\n"
          ]
        },
        {
          "output_type": "stream",
          "name": "stderr",
          "text": [
            "/usr/local/lib/python3.10/dist-packages/aiogram/types/mixins.py:40: DeprecationWarning: destination parameter is deprecated, please use destination_dir or destination_file.\n",
            "  warn_deprecated(\n"
          ]
        },
        {
          "output_type": "stream",
          "name": "stdout",
          "text": [
            "1/1 [==============================] - 0s 25ms/step\n",
            "Laurel, 10.69%\n"
          ]
        },
        {
          "output_type": "stream",
          "name": "stderr",
          "text": [
            "/usr/local/lib/python3.10/dist-packages/aiogram/types/mixins.py:40: DeprecationWarning: destination parameter is deprecated, please use destination_dir or destination_file.\n",
            "  warn_deprecated(\n"
          ]
        },
        {
          "output_type": "stream",
          "name": "stdout",
          "text": [
            "1/1 [==============================] - 0s 39ms/step\n",
            "Basil, 19.35%\n"
          ]
        },
        {
          "output_type": "stream",
          "name": "stderr",
          "text": [
            "/usr/local/lib/python3.10/dist-packages/aiogram/types/mixins.py:40: DeprecationWarning: destination parameter is deprecated, please use destination_dir or destination_file.\n",
            "  warn_deprecated(\n"
          ]
        },
        {
          "output_type": "stream",
          "name": "stdout",
          "text": [
            "1/1 [==============================] - 0s 358ms/step\n",
            "Aloe, 22.77%\n"
          ]
        },
        {
          "output_type": "stream",
          "name": "stderr",
          "text": [
            "/usr/local/lib/python3.10/dist-packages/aiogram/types/mixins.py:40: DeprecationWarning: destination parameter is deprecated, please use destination_dir or destination_file.\n",
            "  warn_deprecated(\n"
          ]
        },
        {
          "output_type": "stream",
          "name": "stdout",
          "text": [
            "1/1 [==============================] - 0s 24ms/step\n",
            "Nettle, 12.21%\n"
          ]
        },
        {
          "output_type": "stream",
          "name": "stderr",
          "text": [
            "/usr/local/lib/python3.10/dist-packages/aiogram/types/mixins.py:40: DeprecationWarning: destination parameter is deprecated, please use destination_dir or destination_file.\n",
            "  warn_deprecated(\n"
          ]
        },
        {
          "output_type": "stream",
          "name": "stdout",
          "text": [
            "1/1 [==============================] - 0s 25ms/step\n",
            "Nettle, 12.21%\n"
          ]
        },
        {
          "output_type": "stream",
          "name": "stderr",
          "text": [
            "/usr/local/lib/python3.10/dist-packages/aiogram/types/mixins.py:40: DeprecationWarning: destination parameter is deprecated, please use destination_dir or destination_file.\n",
            "  warn_deprecated(\n"
          ]
        },
        {
          "output_type": "stream",
          "name": "stdout",
          "text": [
            "1/1 [==============================] - 0s 41ms/step\n",
            "Maple, 14.33%\n"
          ]
        },
        {
          "output_type": "stream",
          "name": "stderr",
          "text": [
            "/usr/local/lib/python3.10/dist-packages/aiogram/types/mixins.py:40: DeprecationWarning: destination parameter is deprecated, please use destination_dir or destination_file.\n",
            "  warn_deprecated(\n"
          ]
        },
        {
          "output_type": "stream",
          "name": "stdout",
          "text": [
            "1/1 [==============================] - 0s 24ms/step\n",
            "Laurel, 13.51%\n"
          ]
        },
        {
          "output_type": "stream",
          "name": "stderr",
          "text": [
            "/usr/local/lib/python3.10/dist-packages/aiogram/types/mixins.py:40: DeprecationWarning: destination parameter is deprecated, please use destination_dir or destination_file.\n",
            "  warn_deprecated(\n"
          ]
        },
        {
          "output_type": "stream",
          "name": "stdout",
          "text": [
            "1/1 [==============================] - 0s 26ms/step\n",
            "Laurel, 13.51%\n"
          ]
        },
        {
          "output_type": "stream",
          "name": "stderr",
          "text": [
            "/usr/local/lib/python3.10/dist-packages/aiogram/types/mixins.py:40: DeprecationWarning: destination parameter is deprecated, please use destination_dir or destination_file.\n",
            "  warn_deprecated(\n"
          ]
        },
        {
          "output_type": "stream",
          "name": "stdout",
          "text": [
            "1/1 [==============================] - 0s 25ms/step\n",
            "Blackberry, 13.11%\n"
          ]
        },
        {
          "output_type": "stream",
          "name": "stderr",
          "text": [
            "/usr/local/lib/python3.10/dist-packages/aiogram/types/mixins.py:40: DeprecationWarning: destination parameter is deprecated, please use destination_dir or destination_file.\n",
            "  warn_deprecated(\n"
          ]
        },
        {
          "output_type": "stream",
          "name": "stdout",
          "text": [
            "1/1 [==============================] - 0s 41ms/step\n",
            "Blackberry, 11.95%\n"
          ]
        },
        {
          "output_type": "stream",
          "name": "stderr",
          "text": [
            "/usr/local/lib/python3.10/dist-packages/aiogram/types/mixins.py:40: DeprecationWarning: destination parameter is deprecated, please use destination_dir or destination_file.\n",
            "  warn_deprecated(\n"
          ]
        },
        {
          "output_type": "stream",
          "name": "stdout",
          "text": [
            "1/1 [==============================] - 0s 24ms/step\n",
            "Nettle, 11.65%\n"
          ]
        },
        {
          "output_type": "stream",
          "name": "stderr",
          "text": [
            "/usr/local/lib/python3.10/dist-packages/aiogram/types/mixins.py:40: DeprecationWarning: destination parameter is deprecated, please use destination_dir or destination_file.\n",
            "  warn_deprecated(\n"
          ]
        },
        {
          "output_type": "stream",
          "name": "stdout",
          "text": [
            "1/1 [==============================] - 0s 39ms/step\n",
            "Nettle, 15.18%\n"
          ]
        },
        {
          "output_type": "stream",
          "name": "stderr",
          "text": [
            "/usr/local/lib/python3.10/dist-packages/aiogram/types/mixins.py:40: DeprecationWarning: destination parameter is deprecated, please use destination_dir or destination_file.\n",
            "  warn_deprecated(\n"
          ]
        },
        {
          "output_type": "stream",
          "name": "stdout",
          "text": [
            "1/1 [==============================] - 0s 25ms/step\n",
            "Oak, 10.84%\n"
          ]
        },
        {
          "output_type": "stream",
          "name": "stderr",
          "text": [
            "/usr/local/lib/python3.10/dist-packages/aiogram/types/mixins.py:40: DeprecationWarning: destination parameter is deprecated, please use destination_dir or destination_file.\n",
            "  warn_deprecated(\n"
          ]
        },
        {
          "output_type": "stream",
          "name": "stdout",
          "text": [
            "1/1 [==============================] - 0s 24ms/step\n",
            "Maple, 10.58%\n"
          ]
        },
        {
          "output_type": "stream",
          "name": "stderr",
          "text": [
            "/usr/local/lib/python3.10/dist-packages/aiogram/types/mixins.py:40: DeprecationWarning: destination parameter is deprecated, please use destination_dir or destination_file.\n",
            "  warn_deprecated(\n"
          ]
        },
        {
          "output_type": "stream",
          "name": "stdout",
          "text": [
            "1/1 [==============================] - 0s 36ms/step\n",
            "Maple, 16.00%\n"
          ]
        },
        {
          "output_type": "stream",
          "name": "stderr",
          "text": [
            "WARNING:aiogram.dispatcher.dispatcher:Polling is stopped.\n"
          ]
        }
      ]
    },
    {
      "cell_type": "markdown",
      "source": [
        "Графики обучения модели"
      ],
      "metadata": {
        "id": "o-0Zi-YSDIbF"
      }
    },
    {
      "cell_type": "code",
      "source": [
        "plt.plot(history.history['accuracy'])\n",
        "plt.plot(history.history['val_accuracy'])\n",
        "plt.title('Model accuracy')\n",
        "plt.ylabel('Accuracy')\n",
        "plt.xlabel('Epoch')\n",
        "plt.legend(['Train', 'Test'], loc='upper left')\n",
        "plt.show()\n",
        "\n",
        "plt.plot(history.history['loss'])\n",
        "plt.plot(history.history['val_loss'])\n",
        "plt.title('Model loss')\n",
        "plt.ylabel('Loss')\n",
        "plt.xlabel('Epoch')\n",
        "plt.legend(['Train', 'Test'], loc='upper left')\n",
        "\n",
        "plt.show()"
      ],
      "metadata": {
        "id": "r77y5IXQuUJq",
        "colab": {
          "base_uri": "https://localhost:8080/",
          "height": 927
        },
        "outputId": "d4ab3f88-38fa-4f08-9b0b-991ae2a91f14"
      },
      "execution_count": null,
      "outputs": [
        {
          "output_type": "display_data",
          "data": {
            "text/plain": [
              "<Figure size 640x480 with 1 Axes>"
            ],
            "image/png": "[encoded data removed]"
          },
          "metadata": {}
        },
        {
          "output_type": "display_data",
          "data": {
            "text/plain": [
              "<Figure size 640x480 with 1 Axes>"
            ],
            "image/png": "[encoded data removed]"
          },
          "metadata": {}
        }
      ]
    }
  ],
  "metadata": {
    "colab": {
      "provenance": [],
      "gpuType": "T4"
    },
    "kernelspec": {
      "display_name": "Python 3",
      "name": "python3"
    },
    "language_info": {
      "name": "python"
    },
    "accelerator": "GPU"
  },
  "nbformat": 4,
  "nbformat_minor": 0
}